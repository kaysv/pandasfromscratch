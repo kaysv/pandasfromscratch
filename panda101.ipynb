{
 "cells": [
  {
   "cell_type": "code",
   "execution_count": 1,
   "metadata": {},
   "outputs": [],
   "source": [
    "import pandas as pd\n",
    "import numpy as np"
   ]
  },
  {
   "cell_type": "raw",
   "metadata": {},
   "source": [
    "# Series \n",
    "s = pd.Series([1,3,5,np.nan,6,8])\n",
    "# DataFrame conversion of Series\n",
    "x = pd.DataFrame(s,columns=['row1'])\n",
    "# How to see the documentation\n",
    "?pd.dropna(axis = 0)\n",
    "# Knew the meaning of inplace and axis = 0 or axis =1,\n",
    "# axis = 0 refers entire row, and 1 refer entire column"
   ]
  },
  {
   "cell_type": "markdown",
   "metadata": {},
   "source": [
    "## That was just high jump"
   ]
  },
  {
   "cell_type": "markdown",
   "metadata": {},
   "source": [
    "## DateTimeRange"
   ]
  },
  {
   "cell_type": "code",
   "execution_count": null,
   "metadata": {},
   "outputs": [],
   "source": [
    "# dates in panda\n",
    "# dates = pd.date_range('20130101', periods=6)\n",
    "?pd.date_range('20130101', periods=6)\n"
   ]
  },
  {
   "cell_type": "code",
   "execution_count": null,
   "metadata": {},
   "outputs": [],
   "source": [
    "pd.date_range('20130101', periods=6, freq='D')"
   ]
  },
  {
   "cell_type": "code",
   "execution_count": null,
   "metadata": {},
   "outputs": [],
   "source": [
    "pd.date_range(periods=6, freq='7S',start='2013-01-23 12:30:10')"
   ]
  },
  {
   "cell_type": "markdown",
   "metadata": {},
   "source": [
    "## DataTypes"
   ]
  },
  {
   "cell_type": "code",
   "execution_count": null,
   "metadata": {},
   "outputs": [],
   "source": [
    "adf = pd.DataFrame(data = \n",
    "                [\n",
    "                    [\"1\",(2,),3,4],\n",
    "                    [\"5\",(6,),7,8],\n",
    "                    [\"3\",(10,),11,12]\n",
    "                ],columns=['a','b','c','d'])"
   ]
  },
  {
   "cell_type": "code",
   "execution_count": null,
   "metadata": {},
   "outputs": [],
   "source": [
    "adf"
   ]
  },
  {
   "cell_type": "code",
   "execution_count": null,
   "metadata": {},
   "outputs": [],
   "source": [
    "adf.a == adf['a']"
   ]
  },
  {
   "cell_type": "code",
   "execution_count": null,
   "metadata": {},
   "outputs": [],
   "source": [
    "adf.a = adf.a.astype('int')"
   ]
  },
  {
   "cell_type": "code",
   "execution_count": null,
   "metadata": {},
   "outputs": [],
   "source": [
    "adf"
   ]
  },
  {
   "cell_type": "code",
   "execution_count": null,
   "metadata": {},
   "outputs": [],
   "source": [
    "adf.b"
   ]
  },
  {
   "cell_type": "code",
   "execution_count": null,
   "metadata": {},
   "outputs": [],
   "source": [
    "for item in adf.a:\n",
    "    print(item)"
   ]
  },
  {
   "cell_type": "code",
   "execution_count": 2,
   "metadata": {},
   "outputs": [],
   "source": [
    "x = pd.DataFrame(data = np.random.randn(4000000,5), columns=['col'+str(i) for i in range(5)])"
   ]
  },
  {
   "cell_type": "code",
   "execution_count": 14,
   "metadata": {},
   "outputs": [
    {
     "data": {
      "text/plain": [
       "col0   -0.212684\n",
       "col1    0.614558\n",
       "col2    0.864352\n",
       "col3   -0.081555\n",
       "col4   -0.293821\n",
       "Name: 2, dtype: float64"
      ]
     },
     "execution_count": 14,
     "metadata": {},
     "output_type": "execute_result"
    }
   ],
   "source": [
    "x.iloc[2:5] #return index 2,3,4 as dataframe\n",
    "x.iloc[[2]] #return index 2 as dataframe\n",
    "x.iloc[2] #return index 2 as series            !!!!!!!!!!Danger"
   ]
  },
  {
   "cell_type": "code",
   "execution_count": 16,
   "metadata": {},
   "outputs": [],
   "source": [
    "?x.head(1)"
   ]
  },
  {
   "cell_type": "code",
   "execution_count": 26,
   "metadata": {},
   "outputs": [
    {
     "data": {
      "text/html": [
       "<div>\n",
       "<style scoped>\n",
       "    .dataframe tbody tr th:only-of-type {\n",
       "        vertical-align: middle;\n",
       "    }\n",
       "\n",
       "    .dataframe tbody tr th {\n",
       "        vertical-align: top;\n",
       "    }\n",
       "\n",
       "    .dataframe thead th {\n",
       "        text-align: right;\n",
       "    }\n",
       "</style>\n",
       "<table border=\"1\" class=\"dataframe\">\n",
       "  <thead>\n",
       "    <tr style=\"text-align: right;\">\n",
       "      <th></th>\n",
       "      <th>col0</th>\n",
       "      <th>col1</th>\n",
       "      <th>col2</th>\n",
       "      <th>col3</th>\n",
       "      <th>col4</th>\n",
       "    </tr>\n",
       "  </thead>\n",
       "  <tbody>\n",
       "    <tr>\n",
       "      <th>0</th>\n",
       "      <td>-1.365356</td>\n",
       "      <td>-1.375759</td>\n",
       "      <td>-1.549607</td>\n",
       "      <td>-0.624079</td>\n",
       "      <td>0.856167</td>\n",
       "    </tr>\n",
       "    <tr>\n",
       "      <th>1</th>\n",
       "      <td>1.482793</td>\n",
       "      <td>-0.124513</td>\n",
       "      <td>1.306194</td>\n",
       "      <td>0.544312</td>\n",
       "      <td>-0.444655</td>\n",
       "    </tr>\n",
       "  </tbody>\n",
       "</table>\n",
       "</div>"
      ],
      "text/plain": [
       "       col0      col1      col2      col3      col4\n",
       "0 -1.365356 -1.375759 -1.549607 -0.624079  0.856167\n",
       "1  1.482793 -0.124513  1.306194  0.544312 -0.444655"
      ]
     },
     "execution_count": 26,
     "metadata": {},
     "output_type": "execute_result"
    }
   ],
   "source": [
    "x.tail(10)\n",
    "x.head(2) #these are handy way of peeking into your data"
   ]
  },
  {
   "cell_type": "code",
   "execution_count": 30,
   "metadata": {},
   "outputs": [],
   "source": [
    "gm = pd.concat([x.head(5),x.tail(5)]) # concatentation via rows"
   ]
  },
  {
   "cell_type": "code",
   "execution_count": 37,
   "metadata": {},
   "outputs": [
    {
     "data": {
      "text/html": [
       "<div>\n",
       "<style scoped>\n",
       "    .dataframe tbody tr th:only-of-type {\n",
       "        vertical-align: middle;\n",
       "    }\n",
       "\n",
       "    .dataframe tbody tr th {\n",
       "        vertical-align: top;\n",
       "    }\n",
       "\n",
       "    .dataframe thead th {\n",
       "        text-align: right;\n",
       "    }\n",
       "</style>\n",
       "<table border=\"1\" class=\"dataframe\">\n",
       "  <thead>\n",
       "    <tr style=\"text-align: right;\">\n",
       "      <th></th>\n",
       "      <th>col0</th>\n",
       "      <th>col1</th>\n",
       "      <th>col2</th>\n",
       "      <th>col3</th>\n",
       "      <th>col4</th>\n",
       "    </tr>\n",
       "  </thead>\n",
       "  <tbody>\n",
       "    <tr>\n",
       "      <th>4</th>\n",
       "      <td>1.899916</td>\n",
       "      <td>-0.083257</td>\n",
       "      <td>-0.119573</td>\n",
       "      <td>0.891732</td>\n",
       "      <td>1.680710</td>\n",
       "    </tr>\n",
       "    <tr>\n",
       "      <th>1</th>\n",
       "      <td>1.482793</td>\n",
       "      <td>-0.124513</td>\n",
       "      <td>1.306194</td>\n",
       "      <td>0.544312</td>\n",
       "      <td>-0.444655</td>\n",
       "    </tr>\n",
       "    <tr>\n",
       "      <th>3999997</th>\n",
       "      <td>1.221182</td>\n",
       "      <td>1.098801</td>\n",
       "      <td>-0.490921</td>\n",
       "      <td>1.070056</td>\n",
       "      <td>0.529992</td>\n",
       "    </tr>\n",
       "    <tr>\n",
       "      <th>3999999</th>\n",
       "      <td>0.878257</td>\n",
       "      <td>0.990501</td>\n",
       "      <td>-0.257664</td>\n",
       "      <td>2.338945</td>\n",
       "      <td>-1.242678</td>\n",
       "    </tr>\n",
       "    <tr>\n",
       "      <th>3999998</th>\n",
       "      <td>0.082905</td>\n",
       "      <td>-1.137704</td>\n",
       "      <td>-0.939943</td>\n",
       "      <td>0.041133</td>\n",
       "      <td>-0.526051</td>\n",
       "    </tr>\n",
       "    <tr>\n",
       "      <th>3999995</th>\n",
       "      <td>-0.193078</td>\n",
       "      <td>-0.398291</td>\n",
       "      <td>-0.379565</td>\n",
       "      <td>0.862960</td>\n",
       "      <td>-0.553474</td>\n",
       "    </tr>\n",
       "    <tr>\n",
       "      <th>2</th>\n",
       "      <td>-0.212684</td>\n",
       "      <td>0.614558</td>\n",
       "      <td>0.864352</td>\n",
       "      <td>-0.081555</td>\n",
       "      <td>-0.293821</td>\n",
       "    </tr>\n",
       "    <tr>\n",
       "      <th>3</th>\n",
       "      <td>-0.779928</td>\n",
       "      <td>-0.384897</td>\n",
       "      <td>-0.019888</td>\n",
       "      <td>0.178346</td>\n",
       "      <td>0.625295</td>\n",
       "    </tr>\n",
       "    <tr>\n",
       "      <th>0</th>\n",
       "      <td>-1.365356</td>\n",
       "      <td>-1.375759</td>\n",
       "      <td>-1.549607</td>\n",
       "      <td>-0.624079</td>\n",
       "      <td>0.856167</td>\n",
       "    </tr>\n",
       "    <tr>\n",
       "      <th>3999996</th>\n",
       "      <td>-2.709471</td>\n",
       "      <td>0.106926</td>\n",
       "      <td>-2.027242</td>\n",
       "      <td>-1.203151</td>\n",
       "      <td>0.239490</td>\n",
       "    </tr>\n",
       "  </tbody>\n",
       "</table>\n",
       "</div>"
      ],
      "text/plain": [
       "             col0      col1      col2      col3      col4\n",
       "4        1.899916 -0.083257 -0.119573  0.891732  1.680710\n",
       "1        1.482793 -0.124513  1.306194  0.544312 -0.444655\n",
       "3999997  1.221182  1.098801 -0.490921  1.070056  0.529992\n",
       "3999999  0.878257  0.990501 -0.257664  2.338945 -1.242678\n",
       "3999998  0.082905 -1.137704 -0.939943  0.041133 -0.526051\n",
       "3999995 -0.193078 -0.398291 -0.379565  0.862960 -0.553474\n",
       "2       -0.212684  0.614558  0.864352 -0.081555 -0.293821\n",
       "3       -0.779928 -0.384897 -0.019888  0.178346  0.625295\n",
       "0       -1.365356 -1.375759 -1.549607 -0.624079  0.856167\n",
       "3999996 -2.709471  0.106926 -2.027242 -1.203151  0.239490"
      ]
     },
     "execution_count": 37,
     "metadata": {},
     "output_type": "execute_result"
    }
   ],
   "source": [
    "gm.sort_values(['col0'],ascending=False)"
   ]
  },
  {
   "cell_type": "code",
   "execution_count": 35,
   "metadata": {},
   "outputs": [
    {
     "data": {
      "text/html": [
       "<div>\n",
       "<style scoped>\n",
       "    .dataframe tbody tr th:only-of-type {\n",
       "        vertical-align: middle;\n",
       "    }\n",
       "\n",
       "    .dataframe tbody tr th {\n",
       "        vertical-align: top;\n",
       "    }\n",
       "\n",
       "    .dataframe thead th {\n",
       "        text-align: right;\n",
       "    }\n",
       "</style>\n",
       "<table border=\"1\" class=\"dataframe\">\n",
       "  <thead>\n",
       "    <tr style=\"text-align: right;\">\n",
       "      <th></th>\n",
       "      <th>col0</th>\n",
       "      <th>col1</th>\n",
       "      <th>col2</th>\n",
       "      <th>col3</th>\n",
       "      <th>col4</th>\n",
       "    </tr>\n",
       "  </thead>\n",
       "  <tbody>\n",
       "    <tr>\n",
       "      <th>0</th>\n",
       "      <td>-1.365356</td>\n",
       "      <td>-1.375759</td>\n",
       "      <td>-1.549607</td>\n",
       "      <td>-0.624079</td>\n",
       "      <td>0.856167</td>\n",
       "    </tr>\n",
       "    <tr>\n",
       "      <th>1</th>\n",
       "      <td>1.482793</td>\n",
       "      <td>-0.124513</td>\n",
       "      <td>1.306194</td>\n",
       "      <td>0.544312</td>\n",
       "      <td>-0.444655</td>\n",
       "    </tr>\n",
       "    <tr>\n",
       "      <th>2</th>\n",
       "      <td>-0.212684</td>\n",
       "      <td>0.614558</td>\n",
       "      <td>0.864352</td>\n",
       "      <td>-0.081555</td>\n",
       "      <td>-0.293821</td>\n",
       "    </tr>\n",
       "    <tr>\n",
       "      <th>3</th>\n",
       "      <td>-0.779928</td>\n",
       "      <td>-0.384897</td>\n",
       "      <td>-0.019888</td>\n",
       "      <td>0.178346</td>\n",
       "      <td>0.625295</td>\n",
       "    </tr>\n",
       "    <tr>\n",
       "      <th>4</th>\n",
       "      <td>1.899916</td>\n",
       "      <td>-0.083257</td>\n",
       "      <td>-0.119573</td>\n",
       "      <td>0.891732</td>\n",
       "      <td>1.680710</td>\n",
       "    </tr>\n",
       "    <tr>\n",
       "      <th>3999995</th>\n",
       "      <td>-0.193078</td>\n",
       "      <td>-0.398291</td>\n",
       "      <td>-0.379565</td>\n",
       "      <td>0.862960</td>\n",
       "      <td>-0.553474</td>\n",
       "    </tr>\n",
       "    <tr>\n",
       "      <th>3999996</th>\n",
       "      <td>-2.709471</td>\n",
       "      <td>0.106926</td>\n",
       "      <td>-2.027242</td>\n",
       "      <td>-1.203151</td>\n",
       "      <td>0.239490</td>\n",
       "    </tr>\n",
       "    <tr>\n",
       "      <th>3999997</th>\n",
       "      <td>1.221182</td>\n",
       "      <td>1.098801</td>\n",
       "      <td>-0.490921</td>\n",
       "      <td>1.070056</td>\n",
       "      <td>0.529992</td>\n",
       "    </tr>\n",
       "    <tr>\n",
       "      <th>3999998</th>\n",
       "      <td>0.082905</td>\n",
       "      <td>-1.137704</td>\n",
       "      <td>-0.939943</td>\n",
       "      <td>0.041133</td>\n",
       "      <td>-0.526051</td>\n",
       "    </tr>\n",
       "    <tr>\n",
       "      <th>3999999</th>\n",
       "      <td>0.878257</td>\n",
       "      <td>0.990501</td>\n",
       "      <td>-0.257664</td>\n",
       "      <td>2.338945</td>\n",
       "      <td>-1.242678</td>\n",
       "    </tr>\n",
       "  </tbody>\n",
       "</table>\n",
       "</div>"
      ],
      "text/plain": [
       "             col0      col1      col2      col3      col4\n",
       "0       -1.365356 -1.375759 -1.549607 -0.624079  0.856167\n",
       "1        1.482793 -0.124513  1.306194  0.544312 -0.444655\n",
       "2       -0.212684  0.614558  0.864352 -0.081555 -0.293821\n",
       "3       -0.779928 -0.384897 -0.019888  0.178346  0.625295\n",
       "4        1.899916 -0.083257 -0.119573  0.891732  1.680710\n",
       "3999995 -0.193078 -0.398291 -0.379565  0.862960 -0.553474\n",
       "3999996 -2.709471  0.106926 -2.027242 -1.203151  0.239490\n",
       "3999997  1.221182  1.098801 -0.490921  1.070056  0.529992\n",
       "3999998  0.082905 -1.137704 -0.939943  0.041133 -0.526051\n",
       "3999999  0.878257  0.990501 -0.257664  2.338945 -1.242678"
      ]
     },
     "execution_count": 35,
     "metadata": {},
     "output_type": "execute_result"
    }
   ],
   "source": [
    "gm"
   ]
  },
  {
   "cell_type": "code",
   "execution_count": 38,
   "metadata": {},
   "outputs": [
    {
     "data": {
      "text/html": [
       "<div>\n",
       "<style scoped>\n",
       "    .dataframe tbody tr th:only-of-type {\n",
       "        vertical-align: middle;\n",
       "    }\n",
       "\n",
       "    .dataframe tbody tr th {\n",
       "        vertical-align: top;\n",
       "    }\n",
       "\n",
       "    .dataframe thead th {\n",
       "        text-align: right;\n",
       "    }\n",
       "</style>\n",
       "<table border=\"1\" class=\"dataframe\">\n",
       "  <thead>\n",
       "    <tr style=\"text-align: right;\">\n",
       "      <th></th>\n",
       "      <th>col0</th>\n",
       "      <th>col1</th>\n",
       "      <th>col2</th>\n",
       "      <th>col3</th>\n",
       "      <th>col4</th>\n",
       "    </tr>\n",
       "  </thead>\n",
       "  <tbody>\n",
       "    <tr>\n",
       "      <th>count</th>\n",
       "      <td>10.000000</td>\n",
       "      <td>10.000000</td>\n",
       "      <td>10.000000</td>\n",
       "      <td>10.000000</td>\n",
       "      <td>10.000000</td>\n",
       "    </tr>\n",
       "    <tr>\n",
       "      <th>mean</th>\n",
       "      <td>0.030454</td>\n",
       "      <td>-0.069364</td>\n",
       "      <td>-0.361386</td>\n",
       "      <td>0.401870</td>\n",
       "      <td>0.087098</td>\n",
       "    </tr>\n",
       "    <tr>\n",
       "      <th>std</th>\n",
       "      <td>1.412830</td>\n",
       "      <td>0.819604</td>\n",
       "      <td>1.000438</td>\n",
       "      <td>0.983986</td>\n",
       "      <td>0.857810</td>\n",
       "    </tr>\n",
       "    <tr>\n",
       "      <th>min</th>\n",
       "      <td>-2.709471</td>\n",
       "      <td>-1.375759</td>\n",
       "      <td>-2.027242</td>\n",
       "      <td>-1.203151</td>\n",
       "      <td>-1.242678</td>\n",
       "    </tr>\n",
       "    <tr>\n",
       "      <th>25%</th>\n",
       "      <td>-0.638117</td>\n",
       "      <td>-0.394942</td>\n",
       "      <td>-0.827687</td>\n",
       "      <td>-0.050883</td>\n",
       "      <td>-0.505702</td>\n",
       "    </tr>\n",
       "    <tr>\n",
       "      <th>50%</th>\n",
       "      <td>-0.055087</td>\n",
       "      <td>-0.103885</td>\n",
       "      <td>-0.318615</td>\n",
       "      <td>0.361329</td>\n",
       "      <td>-0.027165</td>\n",
       "    </tr>\n",
       "    <tr>\n",
       "      <th>75%</th>\n",
       "      <td>1.135451</td>\n",
       "      <td>0.487650</td>\n",
       "      <td>-0.044809</td>\n",
       "      <td>0.884539</td>\n",
       "      <td>0.601469</td>\n",
       "    </tr>\n",
       "    <tr>\n",
       "      <th>max</th>\n",
       "      <td>1.899916</td>\n",
       "      <td>1.098801</td>\n",
       "      <td>1.306194</td>\n",
       "      <td>2.338945</td>\n",
       "      <td>1.680710</td>\n",
       "    </tr>\n",
       "  </tbody>\n",
       "</table>\n",
       "</div>"
      ],
      "text/plain": [
       "            col0       col1       col2       col3       col4\n",
       "count  10.000000  10.000000  10.000000  10.000000  10.000000\n",
       "mean    0.030454  -0.069364  -0.361386   0.401870   0.087098\n",
       "std     1.412830   0.819604   1.000438   0.983986   0.857810\n",
       "min    -2.709471  -1.375759  -2.027242  -1.203151  -1.242678\n",
       "25%    -0.638117  -0.394942  -0.827687  -0.050883  -0.505702\n",
       "50%    -0.055087  -0.103885  -0.318615   0.361329  -0.027165\n",
       "75%     1.135451   0.487650  -0.044809   0.884539   0.601469\n",
       "max     1.899916   1.098801   1.306194   2.338945   1.680710"
      ]
     },
     "execution_count": 38,
     "metadata": {},
     "output_type": "execute_result"
    }
   ],
   "source": [
    "gm.describe()"
   ]
  },
  {
   "cell_type": "code",
   "execution_count": 46,
   "metadata": {},
   "outputs": [],
   "source": [
    "from matplotlib o,[]"
   ]
  },
  {
   "cell_type": "code",
   "execution_count": 50,
   "metadata": {},
   "outputs": [
    {
     "name": "stderr",
     "output_type": "stream",
     "text": [
      "UsageError: Line magic function `%inline` not found.\n"
     ]
    }
   ],
   "source": [
    "%inline"
   ]
  },
  {
   "cell_type": "code",
   "execution_count": 52,
   "metadata": {},
   "outputs": [
    {
     "ename": "NameError",
     "evalue": "name '_converter' is not defined",
     "output_type": "error",
     "traceback": [
      "\u001b[0;31m---------------------------------------------------------------------------\u001b[0m",
      "\u001b[0;31mNameError\u001b[0m                                 Traceback (most recent call last)",
      "\u001b[0;32m<ipython-input-52-811b1aae9e90>\u001b[0m in \u001b[0;36m<module>\u001b[0;34m()\u001b[0m\n\u001b[0;32m----> 1\u001b[0;31m \u001b[0mgm\u001b[0m\u001b[0;34m.\u001b[0m\u001b[0mboxplot\u001b[0m\u001b[0;34m(\u001b[0m\u001b[0;34m)\u001b[0m\u001b[0;34m\u001b[0m\u001b[0m\n\u001b[0m",
      "\u001b[0;32m~/Desktop/pandasfromscratch/pandaEnv/lib/python3.5/site-packages/pandas/plotting/_core.py\u001b[0m in \u001b[0;36mboxplot_frame\u001b[0;34m(self, column, by, ax, fontsize, rot, grid, figsize, layout, return_type, **kwds)\u001b[0m\n\u001b[1;32m   2062\u001b[0m                   return_type=None, **kwds):\n\u001b[1;32m   2063\u001b[0m     \u001b[0;32mimport\u001b[0m \u001b[0mmatplotlib\u001b[0m\u001b[0;34m.\u001b[0m\u001b[0mpyplot\u001b[0m \u001b[0;32mas\u001b[0m \u001b[0mplt\u001b[0m\u001b[0;34m\u001b[0m\u001b[0m\n\u001b[0;32m-> 2064\u001b[0;31m     \u001b[0m_converter\u001b[0m\u001b[0;34m.\u001b[0m\u001b[0m_WARN\u001b[0m \u001b[0;34m=\u001b[0m \u001b[0;32mFalse\u001b[0m\u001b[0;34m\u001b[0m\u001b[0m\n\u001b[0m\u001b[1;32m   2065\u001b[0m     ax = boxplot(self, column=column, by=by, ax=ax, fontsize=fontsize,\n\u001b[1;32m   2066\u001b[0m                  \u001b[0mgrid\u001b[0m\u001b[0;34m=\u001b[0m\u001b[0mgrid\u001b[0m\u001b[0;34m,\u001b[0m \u001b[0mrot\u001b[0m\u001b[0;34m=\u001b[0m\u001b[0mrot\u001b[0m\u001b[0;34m,\u001b[0m \u001b[0mfigsize\u001b[0m\u001b[0;34m=\u001b[0m\u001b[0mfigsize\u001b[0m\u001b[0;34m,\u001b[0m \u001b[0mlayout\u001b[0m\u001b[0;34m=\u001b[0m\u001b[0mlayout\u001b[0m\u001b[0;34m,\u001b[0m\u001b[0;34m\u001b[0m\u001b[0m\n",
      "\u001b[0;31mNameError\u001b[0m: name '_converter' is not defined"
     ]
    }
   ],
   "source": [
    "gm.boxplot()"
   ]
  },
  {
   "cell_type": "code",
   "execution_count": null,
   "metadata": {},
   "outputs": [],
   "source": []
  }
 ],
 "metadata": {
  "kernelspec": {
   "display_name": "pandaEnv",
   "language": "python",
   "name": "pandaenv"
  },
  "language_info": {
   "codemirror_mode": {
    "name": "ipython",
    "version": 3
   },
   "file_extension": ".py",
   "mimetype": "text/x-python",
   "name": "python",
   "nbconvert_exporter": "python",
   "pygments_lexer": "ipython3",
   "version": "3.5.2"
  }
 },
 "nbformat": 4,
 "nbformat_minor": 2
}
